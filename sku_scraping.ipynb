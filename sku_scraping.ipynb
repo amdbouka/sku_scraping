{
 "cells": [
  {
   "cell_type": "code",
   "execution_count": null,
   "id": "b86b5aae-73ac-447e-b766-ac0b9a6b68f7",
   "metadata": {},
   "outputs": [],
   "source": [
    "import csv\n",
    "import requests\n",
    "from bs4 import BeautifulSoup\n",
    "\n",
    "def get_product_description(sku):\n",
    "    # Construct URL using the SKU\n",
    "    url = f'url here '\n",
    "    # Send GET request to the URL\n",
    "    response = requests.get(url)\n",
    "    \n",
    "    # Check if request was successful\n",
    "    if response.status_code == 200:\n",
    "        # Parse HTML content using BeautifulSoup\n",
    "        soup = BeautifulSoup(response.content, 'html.parser')\n",
    "        # Select product description element\n",
    "        description_element = soup.select_one('.product-description')\n",
    "        # Check if description element exists\n",
    "        if description_element:\n",
    "            # Return text of description element\n",
    "            return description_element.get_text(strip=True)\n",
    "        else:\n",
    "            return 'Description not found'\n",
    "    else:\n",
    "        return 'Failed to retrieve data'\n",
    "\n",
    "def main():\n",
    "    input_csv_file = 'products.csv'  # Input CSV file containing SKUs\n",
    "    output_csv_file = 'products_with_description.csv'  # Output CSV file with descriptions\n",
    "\n",
    "    # Read SKUs from the input CSV file\n",
    "    sku_list = []\n",
    "    with open(input_csv_file, 'r') as csv_file:\n",
    "        reader = csv.DictReader(csv_file)\n",
    "        for row in reader:\n",
    "            sku_list.append(row['sku'])\n",
    "\n",
    "    descriptions = {}\n",
    "\n",
    "    # Retrieve product descriptions for each SKU\n",
    "    for sku in sku_list:\n",
    "        description = get_product_description(sku)\n",
    "        descriptions[sku] = description\n",
    "\n",
    "    # Write descriptions to the output CSV file\n",
    "    with open(output_csv_file, 'w', newline='') as csv_file:\n",
    "        writer = csv.DictWriter(csv_file, fieldnames=['sku', 'description'])\n",
    "        writer.writeheader()\n",
    "        for sku, description in descriptions.items():\n",
    "            writer.writerow({'sku': sku, 'description': description})\n",
    "\n",
    "if __name__ == \"__main__\":\n",
    "    main()\n"
   ]
  }
 ],
 "metadata": {
  "kernelspec": {
   "display_name": "Python 3 (ipykernel)",
   "language": "python",
   "name": "python3"
  },
  "language_info": {
   "codemirror_mode": {
    "name": "ipython",
    "version": 3
   },
   "file_extension": ".py",
   "mimetype": "text/x-python",
   "name": "python",
   "nbconvert_exporter": "python",
   "pygments_lexer": "ipython3",
   "version": "3.11.7"
  }
 },
 "nbformat": 4,
 "nbformat_minor": 5
}
